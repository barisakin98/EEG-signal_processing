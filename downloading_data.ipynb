{
 "cells": [
  {
   "cell_type": "code",
   "execution_count": 6,
   "metadata": {},
   "outputs": [
    {
     "name": "stdout",
     "output_type": "stream",
     "text": [
      "Collecting webbrowser\n"
     ]
    },
    {
     "name": "stderr",
     "output_type": "stream",
     "text": [
      "  Could not find a version that satisfies the requirement webbrowser (from versions: )\n",
      "No matching distribution found for webbrowser\n"
     ]
    },
    {
     "data": {
      "text/plain": [
       "True"
      ]
     },
     "execution_count": 6,
     "metadata": {},
     "output_type": "execute_result"
    }
   ],
   "source": [
    "import webbrowser\n",
    "import pandas as pd\n",
    "webbrowser.open(\"https://ftp.gwdg.de/pub/misc/MPI-Leipzig_Mind-Brain-Body-LEMON/MRI_MPILMBB_LEMON/MRI_Raw/sub-010024/ses-01/anat/sub-010024_ses-01_T2w.nii.gz\")\n"
   ]
  },
  {
   "cell_type": "code",
   "execution_count": 20,
   "metadata": {},
   "outputs": [
    {
     "name": "stdout",
     "output_type": "stream",
     "text": [
      "['5', '10', '29', '34', '43', '63', '67', '77', '83', '86', '89', '141', '202', '264', '266', '267', '273', '278', '291', '299', '304'] 21\n",
      "1\n",
      "2\n",
      "2\n",
      "2\n",
      "2\n",
      "2\n",
      "2\n",
      "2\n",
      "2\n",
      "2\n",
      "2\n",
      "3\n",
      "3\n",
      "3\n",
      "3\n",
      "3\n",
      "3\n",
      "3\n",
      "3\n",
      "3\n",
      "3\n"
     ]
    }
   ],
   "source": [
    "num_list_1=\"12,23,33,37,45,48,59,81,92,203,225,226,230,238,247,257,260,276,280\"\n",
    "num_list_2=\"5,19,38,39,45,48,50,50,64,80,91,126,166,222,241,242,243,247,279,302,294\"\n",
    "num_list_3=\"319,312,306,303,292,291,286,285,274,272,267,262,258,257,234,228,202,201,163,152,148,146,136,94,88,86,84,23,7\"\n",
    "num_list_4=\"5,10,29,34,43,63,67,77,83,86,89,141,202,264,266,267,273,278,291,299,304\"\n",
    "\n",
    "new_list=num_list_4.split(\",\")\n",
    "print(new_list,len(new_list))\n",
    "for i in new_list:\n",
    "    print(len(i))\n",
    "\n",
    "for i in new_list:\n",
    "    x=i\n",
    "    if len(i)==1:\n",
    "        webbrowser.open(\"https://ftp.gwdg.de/pub/misc/MPI-Leipzig_Mind-Brain-Body-LEMON/MRI_MPILMBB_LEMON/MRI_Preprocessed_Derivetives/sub-01000\"+x+\"/anat/sub-01000\"+x+\"_ses-01_acq-mp2rage_brain.nii.gz\")\n",
    "    elif len(i)==2: \n",
    "        webbrowser.open(\"https://ftp.gwdg.de/pub/misc/MPI-Leipzig_Mind-Brain-Body-LEMON/MRI_MPILMBB_LEMON/MRI_Preprocessed_Derivetives/sub-0100\"+x+\"/anat/sub-0100\"+x+\"_ses-01_acq-mp2rage_brain.nii.gz\")\n",
    "    elif len(i)==3:\n",
    "        webbrowser.open(\"https://ftp.gwdg.de/pub/misc/MPI-Leipzig_Mind-Brain-Body-LEMON/MRI_MPILMBB_LEMON/MRI_Preprocessed_Derivetives/sub-010\"+x+\"/anat/sub-010\"+x+\"_ses-01_acq-mp2rage_brain.nii.gz\")\n",
    "        \n",
    "\n"
   ]
  },
  {
   "cell_type": "code",
   "execution_count": null,
   "metadata": {},
   "outputs": [],
   "source": []
  }
 ],
 "metadata": {
  "kernelspec": {
   "display_name": "Python 3",
   "language": "python",
   "name": "python3"
  },
  "language_info": {
   "codemirror_mode": {
    "name": "ipython",
    "version": 3
   },
   "file_extension": ".py",
   "mimetype": "text/x-python",
   "name": "python",
   "nbconvert_exporter": "python",
   "pygments_lexer": "ipython3",
   "version": "3.7.1"
  }
 },
 "nbformat": 4,
 "nbformat_minor": 2
}
